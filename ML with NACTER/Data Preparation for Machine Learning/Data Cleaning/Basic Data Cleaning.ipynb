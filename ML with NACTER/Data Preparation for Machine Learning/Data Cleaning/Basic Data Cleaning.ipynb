{
 "cells": [
  {
   "cell_type": "markdown",
   "id": "7b1a6141-61ec-454a-9cd9-299b6d38d282",
   "metadata": {},
   "source": [
    "#  Chapter 5: Basic Data Cleaning\n",
    "\n",
    "---\n",
    "\n",
    "##  Why is Data Cleaning Important?\n",
    "\n",
    "- Data cleaning is a **critical first step** in any machine learning project.\n",
    "- Even **simple errors** like columns with a single value or duplicate rows can:\n",
    "  - Break your models\n",
    "  - Lead to **misleading accuracy or performance**\n",
    "- These steps are **basic but essential** and should never be skipped.\n",
    "\n",
    "---\n",
    "\n",
    "## 1️⃣ Columns with a Single Value\n",
    "\n",
    "- These are called **zero-variance predictors**.\n",
    "- Every row has the **same value** in such columns → No useful information.\n",
    "- Should be **removed** as they add no variance and can cause model errors.\n",
    "\n",
    "---\n",
    "\n",
    "## 2️⃣ Columns with Very Few Unique Values\n",
    "\n",
    "- Called **near-zero variance predictors**.\n",
    "- They have **very limited variability**, which might not be useful for modeling.\n",
    "- Could still be informative, so handle with care:\n",
    "  - Consider encoding as **categorical**\n",
    "  - Try removing one by one and compare model performance\n",
    "\n",
    "---\n",
    "\n",
    "## 3️⃣ Low Variance Columns\n",
    "\n",
    "- Variance measures how much values **spread out** from the mean.\n",
    "- Columns with **very low variance** can be filtered out.\n",
    "- `VarianceThreshold` in `scikit-learn` is commonly used to remove such features.\n",
    "\n",
    "---\n",
    "\n",
    "## 4️⃣ Duplicate Rows\n",
    "\n",
    "- Duplicate observations can:\n",
    "  - **Mislead model evaluation** (e.g. same row in both train/test)\n",
    "  - **Bias probability estimates** in classifiers\n",
    "- Should be **detected** and **removed** using `.duplicated()` and `.drop_duplicates()`.\n",
    "\n",
    "---\n",
    "\n",
    "##  Important Notes\n",
    "\n",
    "- Always **visualize and investigate** before removing any data.\n",
    "- Don’t remove rows or columns blindly — understand **why** the anomaly exists.\n",
    "- Consider using **domain knowledge** when deciding whether to remove or keep.\n",
    "\n",
    "---\n",
    "\n",
    "##  Summary\n",
    "\n",
    "- Always check for:\n",
    "  - Columns with only **one unique value**.\n",
    "  - Columns with **very few unique values** (near-zero variance).\n",
    "  - Columns with **low overall variance**.\n",
    "  - **Duplicate rows** in your dataset.\n",
    "- These cleaning steps help ensure your model is trained on **reliable and diverse data**.\n",
    "\n",
    "\n"
   ]
  },
  {
   "cell_type": "markdown",
   "id": "3a856d17-a266-4667-be67-81e4d7257133",
   "metadata": {},
   "source": [
    "### Identify Columns That Contain a Single Value"
   ]
  },
  {
   "cell_type": "code",
   "execution_count": 2,
   "id": "52fe43b3-f86c-46f8-9812-5e7f7c2e0e4b",
   "metadata": {},
   "outputs": [
    {
     "name": "stdout",
     "output_type": "stream",
     "text": [
      "0 238\n",
      "1 297\n",
      "2 927\n",
      "3 933\n",
      "4 179\n",
      "5 375\n",
      "6 820\n",
      "7 618\n",
      "8 561\n",
      "9 57\n",
      "10 577\n",
      "11 59\n",
      "12 73\n",
      "13 107\n",
      "14 53\n",
      "15 91\n",
      "16 893\n",
      "17 810\n",
      "18 170\n",
      "19 53\n",
      "20 68\n",
      "21 9\n",
      "22 1\n",
      "23 92\n",
      "24 9\n",
      "25 8\n",
      "26 9\n",
      "27 308\n",
      "28 447\n",
      "29 392\n",
      "30 107\n",
      "31 42\n",
      "32 4\n",
      "33 45\n",
      "34 141\n",
      "35 110\n",
      "36 3\n",
      "37 758\n",
      "38 9\n",
      "39 9\n",
      "40 388\n",
      "41 220\n",
      "42 644\n",
      "43 649\n",
      "44 499\n",
      "45 2\n",
      "46 937\n",
      "47 169\n",
      "48 286\n",
      "49 2\n"
     ]
    }
   ],
   "source": [
    "# unique values finding method-1\n",
    "#summarize the number of unique values for each column using numpy\n",
    "from numpy import unique\n",
    "import pandas\n",
    "\n",
    "#read dataset\n",
    "dataframe = pandas.read_csv(\"oil-spill.csv\", header=None)\n",
    "data = dataframe.values\n",
    "\n",
    "# summarize the number of unique values in each column\n",
    "for i in range(data.shape[1]):\n",
    "    print(i, len(unique(data[:, i])))"
   ]
  },
  {
   "cell_type": "code",
   "execution_count": 4,
   "id": "ab021bf6-21b2-4857-aba6-cd3776cefac4",
   "metadata": {
    "scrolled": true
   },
   "outputs": [
    {
     "name": "stdout",
     "output_type": "stream",
     "text": [
      "0     238\n",
      "1     297\n",
      "2     927\n",
      "3     933\n",
      "4     179\n",
      "5     375\n",
      "6     820\n",
      "7     618\n",
      "8     561\n",
      "9      57\n",
      "10    577\n",
      "11     59\n",
      "12     73\n",
      "13    107\n",
      "14     53\n",
      "15     91\n",
      "16    893\n",
      "17    810\n",
      "18    170\n",
      "19     53\n",
      "20     68\n",
      "21      9\n",
      "22      1\n",
      "23     92\n",
      "24      9\n",
      "25      8\n",
      "26      9\n",
      "27    308\n",
      "28    447\n",
      "29    392\n",
      "30    107\n",
      "31     42\n",
      "32      4\n",
      "33     45\n",
      "34    141\n",
      "35    110\n",
      "36      3\n",
      "37    758\n",
      "38      9\n",
      "39      9\n",
      "40    388\n",
      "41    220\n",
      "42    644\n",
      "43    649\n",
      "44    499\n",
      "45      2\n",
      "46    937\n",
      "47    169\n",
      "48    286\n",
      "49      2\n",
      "dtype: int64\n"
     ]
    }
   ],
   "source": [
    "# unique values finding method-2\n",
    "#summarize the number of unique values for each column using numpy\n",
    "from pandas import read_csv\n",
    "# load the dataset\n",
    "df = read_csv('oil-spill.csv', header=None)\n",
    "# summarize the number of unique values in each column\n",
    "print(df.nunique())"
   ]
  },
  {
   "cell_type": "markdown",
   "id": "d0aee222-5d3c-4362-b7d1-0672f7fa4eee",
   "metadata": {},
   "source": [
    "### Delete Columns That Contain a Single Value"
   ]
  },
  {
   "cell_type": "code",
   "execution_count": 10,
   "id": "eaf3b737-205f-4064-9233-b37669cd8dff",
   "metadata": {},
   "outputs": [
    {
     "name": "stdout",
     "output_type": "stream",
     "text": [
      "(937, 50)\n",
      "[22]\n",
      "(937, 49)\n"
     ]
    }
   ],
   "source": [
    "# delete columns with a single unique value\n",
    "\n",
    "from pandas import read_csv\n",
    "# load the dataset\n",
    "df = read_csv('oil-spill.csv', header=None)\n",
    "print(df.shape)\n",
    "\n",
    "# get number of unique values for each column\n",
    "counts = df.nunique()\n",
    "\n",
    "#print(counts)\n",
    "\n",
    "# record columns to delete\n",
    "to_del = [i for i,v in enumerate(counts) if v == 1]\n",
    "print(to_del)\n",
    "\n",
    "# drop useless columns\n",
    "df.drop(to_del, axis=1, inplace=True)\n",
    "print(df.shape)"
   ]
  },
  {
   "cell_type": "markdown",
   "id": "bfaf40a3-76a4-4d98-b0bc-70f66541225d",
   "metadata": {},
   "source": [
    "### Consider Columns That Have Very Few Values"
   ]
  },
  {
   "cell_type": "code",
   "execution_count": 13,
   "id": "6d92e177-3246-4701-bc51-11da36da25ea",
   "metadata": {},
   "outputs": [
    {
     "name": "stdout",
     "output_type": "stream",
     "text": [
      "0, 238, 25.4%\n",
      "1, 297, 31.7%\n",
      "2, 927, 98.9%\n",
      "3, 933, 99.6%\n",
      "4, 179, 19.1%\n",
      "5, 375, 40.0%\n",
      "6, 820, 87.5%\n",
      "7, 618, 66.0%\n",
      "8, 561, 59.9%\n",
      "9, 57, 6.1%\n",
      "10, 577, 61.6%\n",
      "11, 59, 6.3%\n",
      "12, 73, 7.8%\n",
      "13, 107, 11.4%\n",
      "14, 53, 5.7%\n",
      "15, 91, 9.7%\n",
      "16, 893, 95.3%\n",
      "17, 810, 86.4%\n",
      "18, 170, 18.1%\n",
      "19, 53, 5.7%\n",
      "20, 68, 7.3%\n",
      "21, 9, 1.0%\n",
      "22, 1, 0.1%\n",
      "23, 92, 9.8%\n",
      "24, 9, 1.0%\n",
      "25, 8, 0.9%\n",
      "26, 9, 1.0%\n",
      "27, 308, 32.9%\n",
      "28, 447, 47.7%\n",
      "29, 392, 41.8%\n",
      "30, 107, 11.4%\n",
      "31, 42, 4.5%\n",
      "32, 4, 0.4%\n",
      "33, 45, 4.8%\n",
      "34, 141, 15.0%\n",
      "35, 110, 11.7%\n",
      "36, 3, 0.3%\n",
      "37, 758, 80.9%\n",
      "38, 9, 1.0%\n",
      "39, 9, 1.0%\n",
      "40, 388, 41.4%\n",
      "41, 220, 23.5%\n",
      "42, 644, 68.7%\n",
      "43, 649, 69.3%\n",
      "44, 499, 53.3%\n",
      "45, 2, 0.2%\n",
      "46, 937, 100.0%\n",
      "47, 169, 18.0%\n",
      "48, 286, 30.5%\n",
      "49, 2, 0.2%\n"
     ]
    }
   ],
   "source": [
    "#summarize the percentage of unique values for each column using numpy\n",
    "from numpy import unique\n",
    "import pandas\n",
    "\n",
    "#read dataset\n",
    "dataframe = pandas.read_csv(\"oil-spill.csv\", header=None)\n",
    "data = dataframe.values\n",
    "\n",
    "# summarize the number of unique values in each column\n",
    "for i in range(data.shape[1]):\n",
    "    num = len(unique(data[:, i]))\n",
    "    percentage = float(num) / data.shape[0] * 100\n",
    "    print('%d, %d, %.1f%%' % (i, num, percentage))"
   ]
  },
  {
   "cell_type": "raw",
   "id": "4366ea75-4a05-4c5f-9a82-1a390b6e352e",
   "metadata": {},
   "source": [
    "We can update the example to only summarize those variables that have unique values that are less than 1 percent of the number of rows."
   ]
  },
  {
   "cell_type": "code",
   "execution_count": 17,
   "id": "37e70c45-89c3-49bc-837a-5bcda68413d1",
   "metadata": {},
   "outputs": [
    {
     "name": "stdout",
     "output_type": "stream",
     "text": [
      "21, 9, 1.0%\n",
      "22, 1, 0.1%\n",
      "24, 9, 1.0%\n",
      "25, 8, 0.9%\n",
      "26, 9, 1.0%\n",
      "32, 4, 0.4%\n",
      "36, 3, 0.3%\n",
      "38, 9, 1.0%\n",
      "39, 9, 1.0%\n",
      "45, 2, 0.2%\n",
      "49, 2, 0.2%\n"
     ]
    }
   ],
   "source": [
    "#summarize the percentage of unique values for each column using numpy\n",
    "from numpy import unique\n",
    "import pandas\n",
    "\n",
    "dataframe = pandas.read_csv(\"oil-spill.csv\", header=None)\n",
    "data = dataframe.values\n",
    "\n",
    "#summarize the number of unique values in each column\n",
    "for i in range(data.shape[1]):\n",
    "    num = len(unique(data[:, i]))\n",
    "    percentage = float(num) / data.shape[0] * 100\n",
    "    if percentage < 1:\n",
    "        print('%d, %d, %.1f%%' % (i, num, percentage))"
   ]
  },
  {
   "cell_type": "raw",
   "id": "dd2fbe33-1f8b-419f-b80d-0971962afd4b",
   "metadata": {},
   "source": [
    "For example, if we wanted to delete all 11 columns with unique values less than 1 percent of rows; the example below demonstrates this."
   ]
  },
  {
   "cell_type": "code",
   "execution_count": 19,
   "id": "1b524db7-c9b3-4e28-aad2-28995f3eb438",
   "metadata": {},
   "outputs": [
    {
     "name": "stdout",
     "output_type": "stream",
     "text": [
      "(937, 49)\n",
      "[21, 23, 24, 25, 31, 35, 37, 38, 44, 48]\n",
      "(937, 39)\n"
     ]
    }
   ],
   "source": [
    "#delete columns where number of unique values is less than 1% of the rows\n",
    "from numpy import unique\n",
    "import pandas\n",
    "\n",
    "#read dataset\n",
    "dataframe = pandas.read_csv(\"oil-spill.csv\", header=None)\n",
    "data = dataframe.values\n",
    "print(df.shape)\n",
    "\n",
    "# get number of unique values for each column\n",
    "counts = df.nunique()\n",
    "\n",
    "# record columns to delete\n",
    "to_del = [i for i,v in enumerate(counts) if (float(v)/df.shape[0]*100) < 1]\n",
    "print(to_del)\n",
    "\n",
    "# drop useless columns\n",
    "df.drop(to_del, axis=1, inplace=True)\n",
    "print(df.shape)"
   ]
  },
  {
   "cell_type": "markdown",
   "id": "7628dd93-fbcb-4d02-9e35-a6beb94cd7d1",
   "metadata": {},
   "source": [
    "## Remove Columns That Have A Low Variance"
   ]
  },
  {
   "cell_type": "code",
   "execution_count": 57,
   "id": "f2a54215-bbe8-4bcc-88cb-63423d26bcc0",
   "metadata": {},
   "outputs": [
    {
     "name": "stdout",
     "output_type": "stream",
     "text": [
      "Original shape: (937, 49) (937,)\n",
      "Shape after VarianceThreshold: (937, 48)\n"
     ]
    }
   ],
   "source": [
    "# Example of applying the variance threshold for feature selection\n",
    "from pandas import read_csv\n",
    "from sklearn.feature_selection import VarianceThreshold\n",
    "\n",
    "# Load the dataset\n",
    "df = read_csv('oil-spill.csv', header=None)\n",
    "\n",
    "# Split data into inputs and outputs\n",
    "data = df.values\n",
    "X = data[:, :-1]  # All columns except the last one (features)\n",
    "y = data[:, -1]   # Last column (target)\n",
    "print(\"Original shape:\", X.shape, y.shape)\n",
    "\n",
    "# Define the transform\n",
    "transform = VarianceThreshold(threshold=0.0)  # Default threshold removes columns with zero variance\n",
    "\n",
    "# Transform the input data\n",
    "X_sel = transform.fit_transform(X)\n",
    "print(\"Shape after VarianceThreshold:\", X_sel.shape)"
   ]
  },
  {
   "cell_type": "raw",
   "id": "28267064-2f07-4c83-84c2-149622db0270",
   "metadata": {},
   "source": [
    "We can expand this example and see what happens when we use different thresholds. We can define a sequence of thresholds from 0.0 to 0.5 with a step size of 0.05, e.g. 0.0, 0.05, 0.1,etc."
   ]
  },
  {
   "cell_type": "code",
   "execution_count": 63,
   "id": "a86f6333-6645-4e4e-9319-1c8a89ed52b5",
   "metadata": {},
   "outputs": [
    {
     "name": "stdout",
     "output_type": "stream",
     "text": [
      "Original shape: (937, 49) (937,)\n",
      ">Threshold=0.00, Features=48\n",
      ">Threshold=0.05, Features=37\n",
      ">Threshold=0.10, Features=36\n",
      ">Threshold=0.15, Features=35\n",
      ">Threshold=0.20, Features=35\n",
      ">Threshold=0.25, Features=35\n",
      ">Threshold=0.30, Features=35\n",
      ">Threshold=0.35, Features=35\n",
      ">Threshold=0.40, Features=35\n",
      ">Threshold=0.45, Features=33\n",
      ">Threshold=0.50, Features=31\n"
     ]
    },
    {
     "data": {
      "image/png": "[encoded data removed]",
      "text/plain": [
       "<Figure size 640x480 with 1 Axes>"
      ]
     },
     "metadata": {},
     "output_type": "display_data"
    }
   ],
   "source": [
    "# Explore the effect of variance thresholds on the number of selected features\n",
    "from numpy import arange\n",
    "from pandas import read_csv\n",
    "from sklearn.feature_selection import VarianceThreshold\n",
    "import matplotlib.pyplot as plt\n",
    "\n",
    "# Load the dataset\n",
    "df = read_csv('oil-spill.csv', header=None)\n",
    "\n",
    "# Split data into inputs and outputs\n",
    "data = df.values\n",
    "X = data[:, :-1]\n",
    "y = data[:, -1]\n",
    "print(\"Original shape:\", X.shape, y.shape)\n",
    "\n",
    "# Define thresholds to check\n",
    "thresholds = arange(0.0, 0.55, 0.05)\n",
    "results = []\n",
    "\n",
    "# Apply transform with each threshold\n",
    "for t in thresholds:\n",
    "    transform = VarianceThreshold(threshold=t)\n",
    "    X_sel = transform.fit_transform(X)\n",
    "    n_features = X_sel.shape[1]\n",
    "    print(f'>Threshold={t:.2f}, Features={n_features}')\n",
    "    results.append(n_features)\n",
    "\n",
    "# Plot the threshold vs the number of selected features\n",
    "plt.plot(thresholds, results)\n",
    "plt.xlabel('Variance Threshold')\n",
    "plt.ylabel('Number of Features')\n",
    "plt.title('Variance Threshold vs Number of Selected Features')\n",
    "plt.show()"
   ]
  },
  {
   "cell_type": "markdown",
   "id": "13de45c3-b591-47b0-ac2b-498c27d17f73",
   "metadata": {},
   "source": [
    "## Identify Rows That Contain Duplicate Data\n",
    "\n",
    "### IRIS DATASET"
   ]
  },
  {
   "cell_type": "code",
   "execution_count": 38,
   "id": "0bc691ad-049c-4bef-8a78-d1d876347095",
   "metadata": {},
   "outputs": [
    {
     "name": "stdout",
     "output_type": "stream",
     "text": [
      "0      False\n",
      "1      False\n",
      "2      False\n",
      "3      False\n",
      "4      False\n",
      "       ...  \n",
      "145    False\n",
      "146    False\n",
      "147    False\n",
      "148    False\n",
      "149    False\n",
      "Length: 150, dtype: bool\n"
     ]
    }
   ],
   "source": [
    "#locate rows of duplicate data\n",
    "from pandas import read_csv\n",
    "\n",
    "# load the dataset\n",
    "df = read_csv('IRIS.csv', header=None)\n",
    "\n",
    "# calculate duplicates\n",
    "dups = df.duplicated()\n",
    "\n",
    "print(dups)"
   ]
  },
  {
   "cell_type": "code",
   "execution_count": 42,
   "id": "44adcf8b-c84e-4d56-a842-85af620a814d",
   "metadata": {},
   "outputs": [
    {
     "name": "stdout",
     "output_type": "stream",
     "text": [
      "True\n"
     ]
    }
   ],
   "source": [
    "# report if there are any duplicates\n",
    "print(dups.any())"
   ]
  },
  {
   "cell_type": "code",
   "execution_count": 44,
   "id": "39755b69-9d98-4569-a62f-2da233325b5c",
   "metadata": {},
   "outputs": [
    {
     "name": "stdout",
     "output_type": "stream",
     "text": [
      "       0    1    2    3               4\n",
      "34   4.9  3.1  1.5  0.1     Iris-setosa\n",
      "37   4.9  3.1  1.5  0.1     Iris-setosa\n",
      "142  5.8  2.7  5.1  1.9  Iris-virginica\n"
     ]
    }
   ],
   "source": [
    "# list all duplicate rows\n",
    "print(df[dups])"
   ]
  },
  {
   "cell_type": "markdown",
   "id": "de188b7e-7428-460a-b837-390f793031b0",
   "metadata": {},
   "source": [
    "### Delete Rows That Contain Duplicate Data"
   ]
  },
  {
   "cell_type": "code",
   "execution_count": 36,
   "id": "b25b4201-e2de-4fef-8cba-36a241c31c36",
   "metadata": {},
   "outputs": [
    {
     "name": "stdout",
     "output_type": "stream",
     "text": [
      "(150, 5)\n",
      "(147, 5)\n"
     ]
    }
   ],
   "source": [
    "#delete rows of duplicate data from the dataset\n",
    "from pandas import read_csv\n",
    "\n",
    "# load the dataset\n",
    "df = read_csv('IRIS.csv', header=None)\n",
    "print(df.shape)\n",
    "\n",
    "# delete duplicate rows\n",
    "df.drop_duplicates(inplace=True)\n",
    "print(df.shape)"
   ]
  },
  {
   "cell_type": "code",
   "execution_count": null,
   "id": "b2f4cf87-91ff-4042-b7ae-83f3e3f5404a",
   "metadata": {},
   "outputs": [],
   "source": []
  }
 ],
 "metadata": {
  "kernelspec": {
   "display_name": "Python [conda env:base] *",
   "language": "python",
   "name": "conda-base-py"
  },
  "language_info": {
   "codemirror_mode": {
    "name": "ipython",
    "version": 3
   },
   "file_extension": ".py",
   "mimetype": "text/x-python",
   "name": "python",
   "nbconvert_exporter": "python",
   "pygments_lexer": "ipython3",
   "version": "3.12.7"
  }
 },
 "nbformat": 4,
 "nbformat_minor": 5
}
