{
 "cells": [
  {
   "cell_type": "markdown",
   "id": "0785791d-c798-4588-b82b-717cd7f0ba8b",
   "metadata": {},
   "source": [
    "#  Chapter 6: Outlier Identification and Removal\n",
    "\n",
    "---\n",
    "\n",
    "##  What is an Outlier?\n",
    "\n",
    "- An **outlier** is a data point that is significantly different from other observations in the dataset.\n",
    "- Common causes of outliers:\n",
    "  - Measurement or input error.\n",
    "  - Data corruption.\n",
    "  - True extreme (valid) observation.\n",
    "- Outliers may represent rare events and may not always need to be removed.\n",
    "\n",
    "---\n",
    "\n",
    "##  Why Are Outliers Important?\n",
    "\n",
    "- Outliers can distort statistical calculations and machine learning models.\n",
    "- Removing or treating outliers can improve:\n",
    "  - Model accuracy.\n",
    "  - Generalization on new data.\n",
    "- But careless removal can lead to loss of important data.\n",
    "\n",
    "---\n",
    "\n",
    "##  Methods for Outlier Detection and Removal\n",
    "\n",
    "---\n",
    "\n",
    "### 1️⃣ Standard Deviation Method\n",
    "\n",
    "- Assumes data is approximately **Gaussian (normal)**.\n",
    "- **Key thresholds**:\n",
    "  - 68% of data within 1 standard deviation.\n",
    "  - 95% within 2 standard deviations.\n",
    "  - 99.7% within 3 standard deviations.\n",
    "- Any value outside **3 standard deviations** is commonly flagged as an outlier.\n",
    "\n",
    "---\n",
    "\n",
    "### 2️⃣ Interquartile Range (IQR) Method\n",
    "\n",
    "- Suitable for **non-normal data**.\n",
    "- Steps:\n",
    "  - **Q1** = 25th percentile\n",
    "  - **Q3** = 75th percentile\n",
    "  - **IQR** = Q3 - Q1\n",
    "  - **Outlier bounds**:\n",
    "    - Lower bound = Q1 - 1.5 × IQR\n",
    "    - Upper bound = Q3 + 1.5 × IQR\n",
    "- Values outside this range are considered outliers.\n",
    "\n",
    "---\n",
    "\n",
    "### 3️⃣ Automatic Outlier Detection (Model-Based)\n",
    "\n",
    "- Uses machine learning models to detect outliers in high-dimensional data.\n",
    "- Common algorithms:\n",
    "  - `LocalOutlierFactor` (LOF)\n",
    "  - `IsolationForest`\n",
    "- Works by measuring how isolated or distant a sample is from its neighbors.\n",
    "- Often used in real-world high-dimensional datasets.\n",
    "\n",
    "---\n",
    "\n",
    "##  Effect of Outlier Removal\n",
    "\n",
    "- Can improve **model performance**, e.g., reduce error metrics like MAE.\n",
    "- Helps in making the model less biased by rare events.\n",
    "- Example: Removing outliers from training data improved MAE from 3.417 to 3.356.\n",
    "\n",
    "---\n",
    "\n",
    "##  Cautions and Best Practices\n",
    "\n",
    "- Always **visualize** the data and outliers before removal.\n",
    "- Domain knowledge is crucial — some outliers may be meaningful.\n",
    "- Don’t remove outliers blindly, especially in small datasets.\n",
    "- Consider multiple detection methods to cross-validate results.\n",
    "\n",
    "---\n",
    "\n",
    "##  Summary\n",
    "\n",
    "- Outliers are unusual values that may skew model results.\n",
    "- Three main methods to detect/remove:\n",
    "  1. **Standard Deviation Method**\n",
    "  2. **Interquartile Range (IQR) Method**\n",
    "  3. **Automatic Model-Based Detection**\n",
    "- Carefully evaluate before removing — balance between cleaning and losing information.\n",
    "\n",
    "---\n",
    "\n"
   ]
  },
  {
   "cell_type": "markdown",
   "id": "75d127a7-a60e-4491-89e3-7843416b667d",
   "metadata": {},
   "source": [
    "## Test Dataset\n"
   ]
  },
  {
   "cell_type": "code",
   "execution_count": 22,
   "id": "48e33c25-89ea-4caa-ae19-791f8cc22284",
   "metadata": {},
   "outputs": [
    {
     "name": "stdout",
     "output_type": "stream",
     "text": [
      "mean=50.049 stdv=4.994\n"
     ]
    }
   ],
   "source": [
    "# generate gaussian data\n",
    "from numpy.random import seed\n",
    "from numpy.random import randn\n",
    "from numpy import mean\n",
    "from numpy import std\n",
    "# seed the random number generator\n",
    "seed(1)\n",
    "# generate univariate observations\n",
    "data = 5 * randn(10000) + 50\n",
    "# summarize\n",
    "print('mean=%.3f stdv=%.3f' % (mean(data), std(data)))\n"
   ]
  },
  {
   "cell_type": "markdown",
   "id": "6e0d415f-327f-4ec5-a59f-ae793fa50140",
   "metadata": {},
   "source": [
    "##  Standard Deviation Method"
   ]
  },
  {
   "cell_type": "markdown",
   "id": "195696ab-fd8f-4931-a36f-44ca6e16b696",
   "metadata": {},
   "source": [
    "# calculate summary statistics\n",
    "data_mean, data_std = mean(data), std(data)\n",
    "# define outliers\n",
    "cut_off = data_std * 3\n",
    "lower, upper = data_mean - cut_off, data_mean + cut_off\n"
   ]
  },
  {
   "cell_type": "code",
   "execution_count": 25,
   "id": "029e19c9-188a-4021-a773-f69889d0a63b",
   "metadata": {},
   "outputs": [],
   "source": [
    "# identify outliers\n",
    "outliers = [x for x in data if x < lower or x > upper]\n"
   ]
  },
  {
   "cell_type": "code",
   "execution_count": 26,
   "id": "059ad878-7c1c-4c82-8fdb-b0548afcbe67",
   "metadata": {},
   "outputs": [],
   "source": [
    "# remove outliers\n",
    "outliers_removed = [x for x in data if x > lower and x < upper]\n"
   ]
  },
  {
   "cell_type": "code",
   "execution_count": 27,
   "id": "6ea03fb4-7415-40f0-a31c-2e31d4b6f10d",
   "metadata": {},
   "outputs": [
    {
     "name": "stdout",
     "output_type": "stream",
     "text": [
      "Identified outliers: 29\n",
      "Non-outlier observations: 9971\n"
     ]
    }
   ],
   "source": [
    "# identify outliers with standard deviation\n",
    "from numpy.random import seed\n",
    "from numpy.random import randn\n",
    "from numpy import mean\n",
    "from numpy import std\n",
    "# seed the random number generator\n",
    "seed(1)\n",
    "# generate univariate observations\n",
    "data = 5 * randn(10000) + 50\n",
    "# calculate summary statistics\n",
    "data_mean, data_std = mean(data), std(data)\n",
    "# define outliers\n",
    "cut_off = data_std * 3\n",
    "lower, upper = data_mean - cut_off, data_mean + cut_off\n",
    "# identify outliers\n",
    "outliers = [x for x in data if x < lower or x > upper]\n",
    "print('Identified outliers: %d' % len(outliers))\n",
    "# remove outliers\n",
    "outliers_removed = [x for x in data if x >= lower and x <= upper]\n",
    "print('Non-outlier observations: %d' % len(outliers_removed))\n"
   ]
  },
  {
   "cell_type": "markdown",
   "id": "6444d0f1-d9d3-4ab3-b4d1-5e15f401d4a4",
   "metadata": {},
   "source": [
    "## Interquartile Range Method\n"
   ]
  },
  {
   "cell_type": "code",
   "execution_count": 31,
   "id": "9763a0e2-1ec2-4c60-b87c-e944cb466c5d",
   "metadata": {},
   "outputs": [
    {
     "name": "stdout",
     "output_type": "stream",
     "text": [
      "Percentiles: 25th=46.685, 75th=53.359, IQR=6.674\n",
      "Identified outliers: 81\n",
      "Non-outlier observations: 9919\n"
     ]
    }
   ],
   "source": [
    "# identify outliers with interquartile range\n",
    "from numpy.random import seed\n",
    "from numpy.random import randn\n",
    "from numpy import percentile\n",
    "\n",
    "# seed the random number generator for reproducibility\n",
    "seed(1)\n",
    "\n",
    "# generate univariate observations (normal distributed data with mean=50, std=5)\n",
    "data = 5 * randn(10000) + 50\n",
    "\n",
    "# calculate interquartile range\n",
    "q25, q75 = percentile(data, 25), percentile(data, 75)\n",
    "iqr = q75 - q25\n",
    "print('Percentiles: 25th=%.3f, 75th=%.3f, IQR=%.3f' % (q25, q75, iqr))\n",
    "\n",
    "# calculate the outlier cutoff\n",
    "cut_off = iqr * 1.5\n",
    "lower, upper = q25 - cut_off, q75 + cut_off\n",
    "\n",
    "# identify outliers\n",
    "outliers = [x for x in data if x < lower or x > upper]\n",
    "print('Identified outliers: %d' % len(outliers))\n",
    "\n",
    "# remove outliers\n",
    "outliers_removed = [x for x in data if x >= lower and x <= upper]\n",
    "print('Non-outlier observations: %d' % len(outliers_removed))\n"
   ]
  },
  {
   "cell_type": "code",
   "execution_count": 33,
   "id": "d5f80a4c-581b-41f8-b262-d14abc80d39e",
   "metadata": {},
   "outputs": [
    {
     "data": {
      "image/png": "[encoded data removed]",
      "text/plain": [
       "<Figure size 1000x600 with 1 Axes>"
      ]
     },
     "metadata": {},
     "output_type": "display_data"
    }
   ],
   "source": [
    "import matplotlib.pyplot as plt\n",
    "from numpy.random import seed, randn\n",
    "from numpy import percentile\n",
    "\n",
    "# 1. Seed set, bulid random data\n",
    "seed(1)\n",
    "data = 5 * randn(10000) + 50  # mean=50, std=5\n",
    "\n",
    "# 2. Calculate IQR\n",
    "q25, q75 = percentile(data, 25), percentile(data, 75)\n",
    "iqr = q75 - q25\n",
    "cut_off = iqr * 1.5\n",
    "lower, upper = q25 - cut_off, q75 + cut_off\n",
    "\n",
    "# 3. Detect outliers\n",
    "outliers = [x for x in data if x < lower or x > upper]\n",
    "outliers_removed = [x for x in data if x >= lower and x <= upper]\n",
    "\n",
    "# 4. Boxplot visualization\n",
    "plt.figure(figsize=(10, 6))\n",
    "plt.boxplot(data, vert=False, patch_artist=True,\n",
    "            boxprops=dict(facecolor='lightblue'),\n",
    "            flierprops=dict(marker='o', color='red', markersize=5))\n",
    "\n",
    "plt.title(\"Boxplot with Outlier Detection using IQR\")\n",
    "plt.xlabel(\"Value\")\n",
    "plt.grid(True)\n",
    "plt.show()"
   ]
  },
  {
   "cell_type": "code",
   "execution_count": 46,
   "id": "a043e487-079f-4c3f-a36c-1124c3006526",
   "metadata": {},
   "outputs": [
    {
     "data": {
      "image/png": "[encoded data removed]",
      "text/plain": [
       "<Figure size 1000x800 with 2 Axes>"
      ]
     },
     "metadata": {},
     "output_type": "display_data"
    }
   ],
   "source": [
    "#  Histogram + Boxplot Combined Visualization\n",
    "\n",
    "import matplotlib.pyplot as plt\n",
    "from numpy.random import seed, randn\n",
    "from numpy import percentile\n",
    "\n",
    "# 1. Random data generate\n",
    "seed(1)\n",
    "data = 5 * randn(10000) + 50  # normal distributed data\n",
    "\n",
    "# 2. Calculate IQR and Outliers\n",
    "q25, q75 = percentile(data, 25), percentile(data, 75)\n",
    "iqr = q75 - q25\n",
    "cut_off = iqr * 1.5\n",
    "lower, upper = q25 - cut_off, q75 + cut_off\n",
    "outliers = [x for x in data if x < lower or x > upper]\n",
    "outliers_removed = [x for x in data if x >= lower and x <= upper]\n",
    "\n",
    "# 3. Create figure with 2 subplots\n",
    "fig, (ax1, ax2) = plt.subplots(nrows=2, figsize=(10, 8), gridspec_kw={'height_ratios': [1, 4]})\n",
    "\n",
    "# 4. Boxplot (Top)\n",
    "ax1.boxplot(data, vert=False, patch_artist=True,\n",
    "            boxprops=dict(facecolor='skyblue'),\n",
    "            flierprops=dict(marker='o', color='red', markersize=5))\n",
    "ax1.set_title('Boxplot (Outlier Detection)')\n",
    "ax1.set_yticks([])  # Hide y-axis ticks\n",
    "ax1.grid(True)\n",
    "\n",
    "# 5. Histogram (Bottom)\n",
    "ax2.hist(data, bins=50, color='lightgreen', edgecolor='black')\n",
    "ax2.set_title('Histogram of Data Distribution')\n",
    "ax2.set_xlabel('Value')\n",
    "ax2.set_ylabel('Frequency')\n",
    "ax2.grid(True)\n",
    "\n",
    "# 6. Show plot\n",
    "plt.tight_layout()\n",
    "plt.show()\n"
   ]
  },
  {
   "cell_type": "markdown",
   "id": "e43f6b2d-d880-4542-83ac-a5006aec7558",
   "metadata": {},
   "source": [
    "## Automatic Outlier Detection\n"
   ]
  },
  {
   "cell_type": "raw",
   "id": "b6174377-b373-40bc-9575-885574aba4f3",
   "metadata": {},
   "source": [
    "In machine learning, when outliers create noise in the data and the model does not learn properly,\n",
    "we can automatically detect and eliminate outliers."
   ]
  },
  {
   "cell_type": "code",
   "execution_count": 79,
   "id": "12b674ea-60eb-4d39-8d83-58b509d06988",
   "metadata": {},
   "outputs": [
    {
     "name": "stdout",
     "output_type": "stream",
     "text": [
      "Shape of raw dataset: (506, 14)\n",
      "Total NaNs: 120\n",
      "Original training shape: (339, 13) (339,)\n",
      "Training shape after removing outliers: (307, 13) (307,)\n",
      "MAE after removing outliers & imputing NaNs: 3.429\n"
     ]
    }
   ],
   "source": [
    "# Automatic outlier detection using Local Outlier Factor (handles NaN)\n",
    "from pandas import read_csv\n",
    "from sklearn.model_selection import train_test_split\n",
    "from sklearn.impute import SimpleImputer\n",
    "from sklearn.neighbors import LocalOutlierFactor\n",
    "from sklearn.linear_model import LinearRegression\n",
    "from sklearn.metrics import mean_absolute_error\n",
    "import numpy as np\n",
    "\n",
    "# 1. Load dataset (header row present)\n",
    "df = read_csv('HousingData.csv')\n",
    "print(\"Shape of raw dataset:\", df.shape)\n",
    "print(\"Total NaNs:\", df.isna().sum().sum())\n",
    "\n",
    "# 2. Split into input/output arrays\n",
    "X, y = df.iloc[:, :-1].values, df.iloc[:, -1].values\n",
    "\n",
    "# 3. Train/Test split\n",
    "X_train, X_test, y_train, y_test = train_test_split(\n",
    "    X, y, test_size=0.33, random_state=1)\n",
    "print('Original training shape:', X_train.shape, y_train.shape)\n",
    "\n",
    "# 4. ── Impute missing values (fit on TRAIN only ⇒ no data leakage)\n",
    "imputer = SimpleImputer(strategy='median')\n",
    "X_train_imp = imputer.fit_transform(X_train)\n",
    "X_test_imp  = imputer.transform(X_test)       # use same fitted imputer\n",
    "\n",
    "# 5. ── Detect outliers with LOF\n",
    "lof  = LocalOutlierFactor()\n",
    "yhat = lof.fit_predict(X_train_imp)\n",
    "\n",
    "# 6. ── Remove outliers\n",
    "mask = yhat != -1\n",
    "X_train_clean, y_train_clean = X_train_imp[mask], y_train[mask]\n",
    "print('Training shape after removing outliers:', X_train_clean.shape, y_train_clean.shape)\n",
    "\n",
    "# 7. ── Train Linear Regression on cleaned, imputed data\n",
    "model = LinearRegression()\n",
    "model.fit(X_train_clean, y_train_clean)\n",
    "\n",
    "# 8. ── Predict & evaluate on (imputed) test set\n",
    "y_pred = model.predict(X_test_imp)\n",
    "mae    = mean_absolute_error(y_test, y_pred)\n",
    "print('MAE after removing outliers & imputing NaNs: %.3f' % mae)\n"
   ]
  },
  {
   "cell_type": "code",
   "execution_count": 111,
   "id": "b29c2897-4c8f-467e-b067-aeaeb3a868c3",
   "metadata": {},
   "outputs": [
    {
     "name": "stdout",
     "output_type": "stream",
     "text": [
      "Training dataset shape: (339, 13) (339,)\n",
      "Training dataset shape after removing outliers: (305, 13) (305,)\n",
      "MAE: 3.655\n"
     ]
    }
   ],
   "source": [
    "# Importing library \n",
    "import pandas as pd\n",
    "import numpy as np\n",
    "from sklearn.model_selection import train_test_split\n",
    "from sklearn.linear_model import LinearRegression\n",
    "from sklearn.neighbors import LocalOutlierFactor\n",
    "from sklearn.metrics import mean_absolute_error\n",
    "\n",
    "df = pd.read_csv('HousingData.csv')\n",
    "\n",
    "# Filling NA or missing values with the median\n",
    "df = df.fillna(df.median())\n",
    "\n",
    "# Splitting the dataset into input (X) and output (y)\n",
    "# The last column (MEDV) is the target variable, others are inputs\n",
    "X = df.iloc[:, :-1].values\n",
    "y = df.iloc[:, -1].values\n",
    "\n",
    "X_train, X_test, y_train, y_test = train_test_split(X, y, test_size=0.33)\n",
    "\n",
    "# Printing the shape of the training dataset (number of rows and columns)\n",
    "print('Training dataset shape:', X_train.shape, y_train.shape)\n",
    "\n",
    "# Creating the LOF model for outlier detection\n",
    "# Using default hyperparameters\n",
    "lof = LocalOutlierFactor()\n",
    "\n",
    "# Detecting outliers in the training dataset\n",
    "# fit_predict returns 1 for normal data and -1 for outliers\n",
    "yhat = lof.fit_predict(X_train)\n",
    "\n",
    "# Filtering data that are not outliers (yhat != -1)\n",
    "mask = yhat != -1\n",
    "X_train = X_train[mask, :]\n",
    "y_train = y_train[mask]\n",
    "\n",
    "# Printing the shape of the updated training dataset after removing outliers\n",
    "print('Training dataset shape after removing outliers:', X_train.shape, y_train.shape)\n",
    "\n",
    "# Creating and fitting the Linear Regression model\n",
    "model = LinearRegression()\n",
    "model.fit(X_train, y_train)\n",
    "\n",
    "# Making predictions on the test data\n",
    "y_pred = model.predict(X_test)\n",
    "\n",
    "# Calculating Mean Absolute Error (MAE) to measure model performance\n",
    "mae = mean_absolute_error(y_test, y_pred)\n",
    "print('MAE: %.3f' % mae)"
   ]
  },
  {
   "cell_type": "code",
   "execution_count": 115,
   "id": "a78e34d1-f3c1-41d6-be78-7702a7d1e4c6",
   "metadata": {},
   "outputs": [
    {
     "data": {
      "text/plain": [
       "array([ 1,  1,  1,  1,  1,  1,  1, -1,  1,  1,  1,  1,  1,  1,  1,  1,  1,\n",
       "        1,  1,  1,  1, -1,  1,  1,  1,  1,  1,  1,  1,  1, -1,  1,  1,  1,\n",
       "        1,  1,  1,  1,  1,  1,  1,  1, -1,  1,  1,  1,  1,  1,  1, -1,  1,\n",
       "        1,  1,  1,  1,  1,  1,  1,  1,  1,  1,  1,  1, -1, -1,  1,  1,  1,\n",
       "        1,  1,  1,  1,  1,  1,  1,  1,  1,  1,  1,  1,  1,  1,  1,  1,  1,\n",
       "        1,  1,  1,  1,  1,  1,  1,  1,  1,  1,  1,  1,  1,  1,  1,  1,  1,\n",
       "        1,  1,  1, -1,  1,  1, -1,  1, -1,  1,  1,  1,  1,  1,  1,  1,  1,\n",
       "        1,  1,  1,  1,  1,  1,  1, -1,  1,  1,  1,  1,  1,  1,  1,  1,  1,\n",
       "        1,  1,  1,  1,  1, -1,  1,  1,  1,  1,  1,  1,  1,  1,  1,  1,  1,\n",
       "        1,  1,  1,  1,  1,  1,  1,  1,  1,  1,  1,  1,  1,  1, -1,  1,  1,\n",
       "       -1,  1,  1,  1,  1, -1,  1,  1,  1,  1,  1, -1,  1,  1,  1, -1, -1,\n",
       "        1,  1,  1,  1,  1,  1,  1,  1,  1,  1,  1,  1,  1,  1,  1,  1, -1,\n",
       "        1,  1,  1,  1,  1,  1,  1,  1,  1,  1,  1,  1,  1,  1,  1,  1,  1,\n",
       "        1,  1,  1,  1,  1,  1,  1,  1,  1,  1,  1,  1,  1,  1,  1,  1,  1,\n",
       "        1,  1,  1,  1, -1,  1,  1,  1,  1,  1,  1, -1, -1,  1,  1,  1,  1,\n",
       "        1,  1,  1,  1,  1,  1,  1,  1,  1, -1,  1,  1,  1,  1,  1,  1,  1,\n",
       "        1,  1,  1,  1,  1,  1,  1,  1,  1,  1,  1,  1,  1,  1,  1,  1,  1,\n",
       "        1,  1, -1,  1,  1,  1,  1, -1,  1,  1,  1,  1,  1,  1,  1,  1])"
      ]
     },
     "execution_count": 115,
     "metadata": {},
     "output_type": "execute_result"
    }
   ],
   "source": [
    "from sklearn.preprocessing import StandardScaler\n",
    "scaler = StandardScaler()\n",
    "X_train_scaled = scaler.fit_transform(X_train)\n",
    "lof = LocalOutlierFactor()\n",
    "yhat = lof.fit_predict(X_train_scaled)\n",
    "yhat"
   ]
  },
  {
   "cell_type": "code",
   "execution_count": null,
   "id": "59bae095-1791-4e55-b912-3bd8ac29eeac",
   "metadata": {},
   "outputs": [],
   "source": []
  }
 ],
 "metadata": {
  "kernelspec": {
   "display_name": "Python [conda env:base] *",
   "language": "python",
   "name": "conda-base-py"
  },
  "language_info": {
   "codemirror_mode": {
    "name": "ipython",
    "version": 3
   },
   "file_extension": ".py",
   "mimetype": "text/x-python",
   "name": "python",
   "nbconvert_exporter": "python",
   "pygments_lexer": "ipython3",
   "version": "3.12.7"
  }
 },
 "nbformat": 4,
 "nbformat_minor": 5
}
