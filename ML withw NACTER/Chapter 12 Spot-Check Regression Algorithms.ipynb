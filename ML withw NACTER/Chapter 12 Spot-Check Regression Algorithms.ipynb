{
 "cells": [
  {
   "cell_type": "markdown",
   "id": "68e60647-4024-4e09-aa21-458c6af2c497",
   "metadata": {},
   "source": [
    "# Chapter 12--> Spot-Check Regression Algorithms\n",
    "\n",
    "## In this lesson we are going to take a look at seven regression algorithms that you can spot-check on your dataset.\n",
    "## Starting with four linear machine learning algorithms:\n",
    "#### 1--> Linear Regression.\n",
    "#### 2--> Ridge Regression.\n",
    "#### 3--> LASSO Linear Regression.\n",
    "#### 4--> Elastic Net Regression.\n",
    "\n",
    "## Then looking at three nonlinear machine learning algorithms:\n",
    "#### 1--> k-Nearest Neighbors.\n",
    "#### 2--> Classification and Regression Trees.\n",
    "#### 3--> Support Vector Machines.\n"
   ]
  },
  {
   "cell_type": "code",
   "execution_count": 66,
   "id": "37562741-9839-4799-a2c6-44f609da070e",
   "metadata": {},
   "outputs": [
    {
     "name": "stdout",
     "output_type": "stream",
     "text": [
      "-34.70525594452481\n"
     ]
    }
   ],
   "source": [
    "#--> Linear Regression\n",
    "\n",
    "from pandas import read_csv\n",
    "from sklearn.model_selection import KFold\n",
    "from sklearn.model_selection import cross_val_score\n",
    "from sklearn.linear_model import LinearRegression\n",
    "\n",
    "# import warnings\n",
    "# warnings.filterwarnings(\"ignore\")\n",
    "\n",
    "filename = 'boston.csv'\n",
    "dataframe = read_csv(filename, delim_whitespace=False)\n",
    "array = dataframe.values\n",
    "X = array[:,0:13]\n",
    "Y = array[:,13]\n",
    "\n",
    "kfold = KFold(n_splits=10)\n",
    "model = LinearRegression()\n",
    "scoring = 'neg_mean_squared_error'\n",
    "results = cross_val_score(model, X, Y, cv=kfold, scoring=scoring)\n",
    "print(results.mean())"
   ]
  },
  {
   "cell_type": "code",
   "execution_count": 68,
   "id": "add0262e-db61-40f6-8be9-ac3deb5a2c00",
   "metadata": {},
   "outputs": [
    {
     "name": "stdout",
     "output_type": "stream",
     "text": [
      "-34.07824620925927\n"
     ]
    }
   ],
   "source": [
    "#--> Ridge Regression\n",
    "\n",
    "from pandas import read_csv\n",
    "from sklearn.model_selection import KFold\n",
    "from sklearn.model_selection import cross_val_score\n",
    "from sklearn.linear_model import Ridge\n",
    "\n",
    "# import warnings\n",
    "# warnings.filterwarnings(\"ignore\")\n",
    "\n",
    "filename = 'boston.csv'\n",
    "dataframe = read_csv(filename, delim_whitespace=False)\n",
    "array = dataframe.values\n",
    "X = array[:,0:13]\n",
    "Y = array[:,13]\n",
    "\n",
    "num_folds = 10\n",
    "kfold = KFold(n_splits=10)\n",
    "model = Ridge()\n",
    "scoring = 'neg_mean_squared_error'\n",
    "results = cross_val_score(model, X, Y, cv=kfold, scoring=scoring)\n",
    "print(results.mean())"
   ]
  },
  {
   "cell_type": "code",
   "execution_count": 70,
   "id": "77afd0e2-fce9-46ee-9244-2b5e258372c6",
   "metadata": {},
   "outputs": [
    {
     "name": "stdout",
     "output_type": "stream",
     "text": [
      "-34.46408458830232\n"
     ]
    }
   ],
   "source": [
    "#--> Lasso Regression\n",
    "\n",
    "from pandas import read_csv\n",
    "from sklearn.model_selection import KFold\n",
    "from sklearn.model_selection import cross_val_score\n",
    "from sklearn.linear_model import Lasso\n",
    "\n",
    "# import warnings\n",
    "# warnings.filterwarnings(\"ignore\")\n",
    "\n",
    "filename = 'boston.csv'\n",
    "dataframe = read_csv(filename, delim_whitespace=False)\n",
    "array = dataframe.values\n",
    "X = array[:,0:13]\n",
    "Y = array[:,13]\n",
    "\n",
    "kfold = KFold(n_splits=10)\n",
    "model = Lasso()\n",
    "scoring = 'neg_mean_squared_error'\n",
    "results = cross_val_score(model, X, Y, cv=kfold, scoring=scoring)\n",
    "print(results.mean())"
   ]
  },
  {
   "cell_type": "code",
   "execution_count": 72,
   "id": "3a9319ac-fea4-439f-b419-65fde32cac5f",
   "metadata": {},
   "outputs": [
    {
     "name": "stdout",
     "output_type": "stream",
     "text": [
      "-31.16457371424977\n"
     ]
    }
   ],
   "source": [
    "#--> ElasticNet Regression\n",
    "\n",
    "from pandas import read_csv\n",
    "from sklearn.model_selection import KFold\n",
    "from sklearn.model_selection import cross_val_score\n",
    "from sklearn.linear_model import ElasticNet\n",
    "\n",
    "filename = 'boston.csv'\n",
    "dataframe = read_csv(filename, delim_whitespace=False)\n",
    "array = dataframe.values\n",
    "X = array[:,0:13]\n",
    "Y = array[:,13]\n",
    "\n",
    "kfold = KFold(n_splits=10)\n",
    "model = ElasticNet()\n",
    "scoring = 'neg_mean_squared_error'\n",
    "results = cross_val_score(model, X, Y, cv=kfold, scoring=scoring)\n",
    "print(results.mean())"
   ]
  },
  {
   "cell_type": "code",
   "execution_count": 74,
   "id": "14cb2c47-6335-47bf-9d2a-0315eaf8efa6",
   "metadata": {},
   "outputs": [
    {
     "name": "stdout",
     "output_type": "stream",
     "text": [
      "-107.28683898039215\n"
     ]
    }
   ],
   "source": [
    "#--> KNN Regression\n",
    "\n",
    "from pandas import read_csv\n",
    "from sklearn.model_selection import KFold\n",
    "from sklearn.model_selection import cross_val_score\n",
    "from sklearn.neighbors import KNeighborsRegressor\n",
    "\n",
    "# import warnings\n",
    "# warnings.filterwarnings(\"ignore\")\n",
    "\n",
    "filename = 'boston.csv'\n",
    "dataframe = read_csv(filename, delim_whitespace=False)\n",
    "array = dataframe.values\n",
    "X = array[:,0:13]\n",
    "Y = array[:,13]\n",
    "\n",
    "kfold = KFold(n_splits=10)\n",
    "model = KNeighborsRegressor()\n",
    "scoring = 'neg_mean_squared_error'\n",
    "\n",
    "results = cross_val_score(model, X, Y, cv=kfold, scoring=scoring)\n",
    "print(results.mean())"
   ]
  },
  {
   "cell_type": "code",
   "execution_count": 76,
   "id": "9c827f3d-49ce-4fbc-8fcf-ae6bd8ffa462",
   "metadata": {},
   "outputs": [
    {
     "name": "stdout",
     "output_type": "stream",
     "text": [
      "-37.756036078431364\n"
     ]
    }
   ],
   "source": [
    "#--> Decision Tree Regression\n",
    "\n",
    "from pandas import read_csv\n",
    "from sklearn.model_selection import KFold\n",
    "from sklearn.model_selection import cross_val_score\n",
    "from sklearn.tree import DecisionTreeRegressor\n",
    "\n",
    "# import warnings\n",
    "# warnings.filterwarnings(\"ignore\")\n",
    "\n",
    "filename = 'boston.csv'\n",
    "dataframe = read_csv(filename, delim_whitespace=False)\n",
    "array = dataframe.values\n",
    "X = array[:,0:13]\n",
    "Y = array[:,13]\n",
    "\n",
    "kfold = KFold(n_splits=10)\n",
    "model = DecisionTreeRegressor()\n",
    "scoring = 'neg_mean_squared_error'\n",
    "\n",
    "results = cross_val_score(model, X, Y, cv=kfold, scoring=scoring)\n",
    "print(results.mean())"
   ]
  },
  {
   "cell_type": "code",
   "execution_count": 78,
   "id": "dfb3a5e3-cbe7-4ce5-9eac-6bf78c2311d5",
   "metadata": {},
   "outputs": [
    {
     "name": "stdout",
     "output_type": "stream",
     "text": [
      "-72.25543311855311\n"
     ]
    }
   ],
   "source": [
    "#--> SVM Regression\n",
    "\n",
    "from pandas import read_csv\n",
    "from sklearn.model_selection import KFold\n",
    "from sklearn.model_selection import cross_val_score\n",
    "from sklearn.svm import SVR\n",
    "\n",
    "# import warnings\n",
    "# warnings.filterwarnings(\"ignore\")\n",
    "\n",
    "filename = 'boston.csv'\n",
    "dataframe = read_csv(filename, delim_whitespace=False)\n",
    "array = dataframe.values\n",
    "X = array[:,0:13]\n",
    "Y = array[:,13]\n",
    "\n",
    "num_folds = 10\n",
    "kfold = KFold(n_splits=10)\n",
    "model = SVR() #support vector regression\n",
    "scoring = 'neg_mean_squared_error'\n",
    "\n",
    "results = cross_val_score(model, X, Y, cv=kfold, scoring=scoring)\n",
    "print(results.mean())"
   ]
  },
  {
   "cell_type": "code",
   "execution_count": null,
   "id": "9820a7eb-6a3d-457e-aea0-3f418000181f",
   "metadata": {},
   "outputs": [],
   "source": []
  }
 ],
 "metadata": {
  "kernelspec": {
   "display_name": "Python [conda env:base] *",
   "language": "python",
   "name": "conda-base-py"
  },
  "language_info": {
   "codemirror_mode": {
    "name": "ipython",
    "version": 3
   },
   "file_extension": ".py",
   "mimetype": "text/x-python",
   "name": "python",
   "nbconvert_exporter": "python",
   "pygments_lexer": "ipython3",
   "version": "3.12.7"
  }
 },
 "nbformat": 4,
 "nbformat_minor": 5
}
