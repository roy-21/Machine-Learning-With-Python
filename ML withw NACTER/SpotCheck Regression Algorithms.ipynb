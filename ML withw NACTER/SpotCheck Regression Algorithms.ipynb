{
 "cells": [
  {
   "cell_type": "markdown",
   "id": "6ae8b9f4-73e7-46f5-9b0a-f3d834009419",
   "metadata": {},
   "source": [
    "# Chapter 11:- Spot-Check Classification Algorithms\n",
    "\n",
    "### We are going to take a look at six classification algorithms that you can spot-check on your dataset.\n",
    "### Starting with two linear machine learning algorithms:\n",
    "\n",
    "#### 1--> Logistic Regression\n",
    "#### 2--> Linear Discriminant Analysis(LDA)\n",
    "\n",
    "### Then looking at four nonlinear machine learning algorithms:\n",
    "\n",
    "#### 1--> k-Nearest Neighbors(KNN)\n",
    "#### 2--> Naive Bayes(NB)\n",
    "#### 3--> Classification and Regression Trees(CART)\n",
    "#### 4--> Support Vector Machines(SVM)\n",
    "\n"
   ]
  },
  {
   "cell_type": "code",
   "execution_count": 38,
   "id": "e6eba69c-a02c-4a65-a23c-aa5f5ba3d233",
   "metadata": {},
   "outputs": [
    {
     "name": "stdout",
     "output_type": "stream",
     "text": [
      "77.08304853041695\n"
     ]
    }
   ],
   "source": [
    "# Logistic Regression Classification\n",
    "\n",
    "from pandas import read_csv\n",
    "from sklearn.model_selection import KFold\n",
    "from sklearn.model_selection import cross_val_score\n",
    "from sklearn.linear_model import LogisticRegression #classificaiton model\n",
    "\n",
    "# import warnings\n",
    "# warnings.filterwarnings(\"ignore\")\n",
    "\n",
    "filename ='diabetes.csv'\n",
    "dataframe = read_csv(filename)\n",
    "\n",
    "# Features and target\n",
    "array = dataframe.values\n",
    "X = array[:,0:8]\n",
    "Y = array[:,8]\n",
    "\n",
    "num_folds = 10\n",
    "\n",
    "# Cross-validation\n",
    "kfold = KFold(n_splits=10)\n",
    "model = LogisticRegression()\n",
    "results = cross_val_score(model, X, Y, cv=kfold)\n",
    "print(results.mean()*100)"
   ]
  },
  {
   "cell_type": "code",
   "execution_count": 40,
   "id": "dcb05f00-cf26-4ecb-9063-9de84ff3a41b",
   "metadata": {},
   "outputs": [
    {
     "name": "stdout",
     "output_type": "stream",
     "text": [
      "77.3462064251538\n"
     ]
    }
   ],
   "source": [
    "#--> Linear Discriminant Analysis (LDA) Classification\n",
    "\n",
    "from pandas import read_csv\n",
    "from sklearn.model_selection import KFold\n",
    "from sklearn.model_selection import cross_val_score\n",
    "from sklearn.discriminant_analysis import LinearDiscriminantAnalysis\n",
    "\n",
    "# import warnings\n",
    "# warnings.filterwarnings(\"ignore\")\n",
    "\n",
    "filename ='diabetes.csv'\n",
    "dataframe = read_csv(filename)\n",
    "\n",
    "array = dataframe.values\n",
    "X = array[:,0:8]\n",
    "Y = array[:,8]\n",
    "\n",
    "num_folds = 10\n",
    "\n",
    "kfold = KFold(n_splits=10)\n",
    "model = LinearDiscriminantAnalysis()\n",
    "results = cross_val_score(model, X, Y, cv=kfold)\n",
    "print(results.mean()*100)"
   ]
  },
  {
   "cell_type": "code",
   "execution_count": 44,
   "id": "9aaeae5c-84c6-4648-a019-eec89539985c",
   "metadata": {},
   "outputs": [
    {
     "name": "stdout",
     "output_type": "stream",
     "text": [
      "72.6555023923445\n"
     ]
    }
   ],
   "source": [
    "#--> K-Nearest Neighbors (KNN) Classification\n",
    "\n",
    "from pandas import read_csv\n",
    "from sklearn.model_selection import KFold\n",
    "from sklearn.model_selection import cross_val_score\n",
    "from sklearn.neighbors import KNeighborsClassifier\n",
    "\n",
    "# import warnings\n",
    "# warnings.filterwarnings(\"ignore\")\n",
    "\n",
    "filename ='diabetes.csv'\n",
    "dataframe = read_csv(filename)\n",
    "\n",
    "array = dataframe.values\n",
    "X = array[:,0:8]\n",
    "Y = array[:,8]\n",
    "\n",
    "num_folds = 10\n",
    "\n",
    "kfold = KFold(n_splits=10)\n",
    "model = KNeighborsClassifier()\n",
    "results = cross_val_score(model, X, Y, cv=kfold)\n",
    "print(results.mean()*100.0)"
   ]
  },
  {
   "cell_type": "code",
   "execution_count": 48,
   "id": "0e8391b0-3998-4934-92c0-db8c55013833",
   "metadata": {},
   "outputs": [
    {
     "name": "stdout",
     "output_type": "stream",
     "text": [
      "75.51777170198223\n"
     ]
    }
   ],
   "source": [
    "#--> Gaussian Naive Bayes (GNB) Classification\n",
    "\n",
    "from pandas import read_csv\n",
    "from sklearn.model_selection import KFold\n",
    "from sklearn.model_selection import cross_val_score\n",
    "from sklearn.naive_bayes import GaussianNB\n",
    "\n",
    "import warnings\n",
    "# warnings.filterwarnings(\"ignore\")\n",
    "\n",
    "filename ='diabetes.csv'\n",
    "dataframe = read_csv(filename)\n",
    "\n",
    "array = dataframe.values\n",
    "X = array[:,0:8]\n",
    "Y = array[:,8]\n",
    "\n",
    "kfold = KFold(n_splits=10)\n",
    "model = GaussianNB()\n",
    "results = cross_val_score(model, X, Y, cv=kfold)\n",
    "print(results.mean()*100.0)"
   ]
  },
  {
   "cell_type": "code",
   "execution_count": 50,
   "id": "7bb80564-3edc-4cff-92a3-34c4e724e27d",
   "metadata": {},
   "outputs": [
    {
     "name": "stdout",
     "output_type": "stream",
     "text": [
      "68.60902255639097\n"
     ]
    }
   ],
   "source": [
    "#-->Classification and Regression Trees (CART) Classification\n",
    "\n",
    "from pandas import read_csv\n",
    "from sklearn.model_selection import KFold\n",
    "from sklearn.model_selection import cross_val_score\n",
    "from sklearn.tree import DecisionTreeClassifier\n",
    "\n",
    "# import warnings\n",
    "# warnings.filterwarnings(\"ignore\")\n",
    "\n",
    "filename ='diabetes.csv'\n",
    "dataframe = read_csv(filename)\n",
    "\n",
    "array = dataframe.values\n",
    "X = array[:,0:8]\n",
    "Y = array[:,8]\n",
    "\n",
    "kfold = KFold(n_splits=10)\n",
    "model = DecisionTreeClassifier() #CART\n",
    "results = cross_val_score(model, X, Y, cv=kfold)\n",
    "print(results.mean()*100.0)"
   ]
  },
  {
   "cell_type": "code",
   "execution_count": 52,
   "id": "120b163d-fd72-4394-b11c-1bb7522e9d1c",
   "metadata": {},
   "outputs": [
    {
     "name": "stdout",
     "output_type": "stream",
     "text": [
      "76.04237867395763\n"
     ]
    }
   ],
   "source": [
    "#-->Support Vector Machines(SVM) Classification\n",
    "\n",
    "from pandas import read_csv\n",
    "from sklearn.model_selection import KFold\n",
    "from sklearn.model_selection import cross_val_score\n",
    "from sklearn.svm import SVC\n",
    "\n",
    "# import warnings\n",
    "# warnings.filterwarnings(\"ignore\")\n",
    "\n",
    "filename ='diabetes.csv'\n",
    "dataframe = read_csv(filename)\n",
    "\n",
    "array = dataframe.values\n",
    "X = array[:,0:8]\n",
    "Y = array[:,8]\n",
    "\n",
    "kfold = KFold(n_splits=10)\n",
    "model = SVC()\n",
    "results = cross_val_score(model, X, Y, cv=kfold)\n",
    "print(results.mean()*100.0)"
   ]
  }
 ],
 "metadata": {
  "kernelspec": {
   "display_name": "Python [conda env:base] *",
   "language": "python",
   "name": "conda-base-py"
  },
  "language_info": {
   "codemirror_mode": {
    "name": "ipython",
    "version": 3
   },
   "file_extension": ".py",
   "mimetype": "text/x-python",
   "name": "python",
   "nbconvert_exporter": "python",
   "pygments_lexer": "ipython3",
   "version": "3.12.7"
  }
 },
 "nbformat": 4,
 "nbformat_minor": 5
}
